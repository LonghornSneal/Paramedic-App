{
 "cells": [
  {
   "cell_type": "markdown",
   "id": "b9e30bc4",
   "metadata": {},
   "source": [
    "# All-Tools Toolset Test Notebook\n",
    "\n",
    "This notebook tests all tools defined in `All-Tools.toolsets.jsonc` to ensure full functionality for AI agent workflows.\n",
    "\n",
    "---\n",
    "\n",
    "**Outline:**\n",
    "1. Import Required Libraries\n",
    "2. Load Toolset Configuration\n",
    "3. List Available Tools\n",
    "4. Test File Editing Tool\n",
    "5. Test Code Review Tool\n",
    "6. Test Code Generation Tool\n",
    "7. Test Test Discovery and Execution Tools\n",
    "8. Test Terminal and Command Execution Tools\n",
    "9. Test Notebook and Jupyter Support\n",
    "10. Test Java MCP/Modernization Tools\n",
    "11. Test Search and Problem Analysis Tools\n",
    "12. Summarize Toolset Functionality\n"
   ]
  },
  {
   "cell_type": "code",
   "execution_count": null,
   "id": "0f2e0bb3",
   "metadata": {},
   "outputs": [],
   "source": [
    "# 1. Import Required Libraries\n",
    "import os\n",
    "import json\n",
    "import subprocess\n",
    "from pathlib import Path\n"
   ]
  },
  {
   "cell_type": "code",
   "execution_count": null,
   "id": "b7c065ed",
   "metadata": {},
   "outputs": [],
   "source": [
    "# 2. Load Toolset Configuration\n",
    "with open('All-Tools.toolsets.jsonc', 'r', encoding='utf-8') as f:\n",
    "    # Remove comments for JSONC compatibility\n",
    "    lines = [line for line in f if not line.strip().startswith('//')]\n",
    "    toolset_json = json.loads(''.join(lines))\n",
    "tools = toolset_json['tools']\n",
    "print(f\"Loaded {len(tools)} tools from All-Tools.toolsets.jsonc.\")\n"
   ]
  },
  {
   "cell_type": "code",
   "execution_count": null,
   "id": "82f933b4",
   "metadata": {},
   "outputs": [],
   "source": [
    "# 3. List Available Tools\n",
    "print(\"Available tools in toolset:\")\n",
    "for tool in tools:\n",
    "    print(f\"- {tool}\")\n"
   ]
  }
 ],
 "metadata": {
  "language_info": {
   "name": "python"
  }
 },
 "nbformat": 4,
 "nbformat_minor": 5
}
